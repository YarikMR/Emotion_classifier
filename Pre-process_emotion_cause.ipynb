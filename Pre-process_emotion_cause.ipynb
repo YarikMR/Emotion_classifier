{
 "cells": [
  {
   "cell_type": "markdown",
   "metadata": {},
   "source": [
    "# Preprocess Emotion Casue dataset\n",
    "\n",
    "Transforme the emotion cause dataset into a single CSV, with two columns: (1) text and (2) emotion tag"
   ]
  },
  {
   "cell_type": "code",
   "execution_count": 54,
   "metadata": {},
   "outputs": [],
   "source": [
    "from xml.dom import minidom\n",
    "import pandas as pd"
   ]
  },
  {
   "cell_type": "code",
   "execution_count": 49,
   "metadata": {},
   "outputs": [],
   "source": [
    "def get_text_and_labes (string:str, remove_cause = True)->tuple:\n",
    "    string = string.replace(\"<\\\\\",\"</\" )\n",
    "    # removing <cause> tags\n",
    "    if remove_cause:\n",
    "        string= string.replace('<cause>','').replace('</cause>','')\n",
    "    tree = minidom.parseString(string)\n",
    "    tag = tree.childNodes[0].tagName\n",
    "    text = tree.childNodes[0].firstChild.nodeValue\n",
    "    \n",
    "    return text, tag"
   ]
  },
  {
   "cell_type": "code",
   "execution_count": 50,
   "metadata": {},
   "outputs": [],
   "source": [
    "with open ('Datasets/Emotion_Cause/Emotion Cause.txt') as file:\n",
    "    dataset1 = [get_text_and_labes(line) for line in file.readlines()]\n",
    "    \n",
    "dataset2 = list()\n",
    "with open ('Datasets/Emotion_Cause/No Cause.txt') as file:\n",
    "    for line in file.readlines():\n",
    "        try:\n",
    "            dataset2.append(get_text_and_labes(line, False))\n",
    "        except:\n",
    "            pass"
   ]
  },
  {
   "cell_type": "code",
   "execution_count": 60,
   "metadata": {},
   "outputs": [],
   "source": [
    "# Join both datasets\n",
    "dataset = dataset1+dataset2\n",
    "\n",
    "texts = [row[0] for row in  dataset]\n",
    "labels = [row[1] for row in  dataset]"
   ]
  },
  {
   "cell_type": "code",
   "execution_count": 55,
   "metadata": {},
   "outputs": [],
   "source": [
    "# Save dataset\n",
    "df = pd.DataFrame({'text':texts, 'emotion': labels})\n",
    "df.to_csv('Datasets/Emotion_cause_compulation.csv',index=False)"
   ]
  },
  {
   "cell_type": "code",
   "execution_count": 59,
   "metadata": {},
   "outputs": [
    {
     "data": {
      "text/plain": [
       "(2412, 2)"
      ]
     },
     "execution_count": 59,
     "metadata": {},
     "output_type": "execute_result"
    }
   ],
   "source": [
    "df.shape"
   ]
  }
 ],
 "metadata": {
  "kernelspec": {
   "display_name": "Python 3",
   "language": "python",
   "name": "python3"
  },
  "language_info": {
   "codemirror_mode": {
    "name": "ipython",
    "version": 3
   },
   "file_extension": ".py",
   "mimetype": "text/x-python",
   "name": "python",
   "nbconvert_exporter": "python",
   "pygments_lexer": "ipython3",
   "version": "3.8.5"
  }
 },
 "nbformat": 4,
 "nbformat_minor": 4
}
